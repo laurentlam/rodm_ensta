{
 "cells": [
  {
   "cell_type": "code",
   "execution_count": 108,
   "metadata": {},
   "outputs": [],
   "source": [
    "import pandas as pd\n",
    "from sklearn.model_selection import train_test_split\n",
    "from scipy.stats import ttest_ind, chi2_contingency\n",
    "import numpy as np\n",
    "from tqdm import tqdm\n"
   ]
  },
  {
   "cell_type": "markdown",
   "metadata": {},
   "source": [
    "# TO DO LIST\n",
    "\n",
    "\n",
    "## Step 1: Binarization of feature vectors\n",
    "\n",
    "### Independant analysis\n",
    "\n",
    "#### - Compute T-Test for continuous variables \n",
    " - Sick group vs Not sick group\n",
    " - Compute p-value for statistical significancy of in/dependance\n",
    " - Keep only variables with p-val < 0.005\n",
    " \n",
    "#### - Compute Chi-2 tests for categorial/nominal variables -> Sick vs Not Sick\n",
    " - Sick group vs Not sick group\n",
    " - Compute p-value for statistical significancy of in/dependance\n",
    " - Keep only variables with p-val < 0.005\n",
    " \n",
    "###  Relationship/correlation analysis\n",
    " - Compute correlation/causality tests between features ? -> get rid of redundant variables \n",
    " \n",
    "### Aggregation & Binning\n",
    "\n",
    "#### - Nominal variables (2+ modalities)\n",
    " - Aggregate modalities if modalities consist in a sequence of unique group representation\n",
    " \n",
    "#### - Continuous variables\n",
    " - Compute bins based on global distribution/quantiles ?\n",
    " - Compute bins based on population (Sick vs Not Sick) ?\n",
    " - Compute bins based on majority population (Sick vs Not Sick) ?\n",
    " - TBD\n",
    "\n",
    "## Step 2: Implement Rules Generation algorithm\n",
    " - TBD"
   ]
  },
  {
   "cell_type": "code",
   "execution_count": 109,
   "metadata": {},
   "outputs": [],
   "source": [
    "\n",
    "\n",
    "def preprocess_columns(df):\n",
    "    processed_features = {}\n",
    "    columns = df.columns.tolist()\n",
    "    for feature in columns:\n",
    "        if df[feature].dtype in [int, float]:\n",
    "            processed_features[feature] = df[feature].tolist()\n",
    "        elif df[feature].dtype == object:\n",
    "            processed_features[feature] = [label_dict[sample] for sample in df[feature]]\n",
    "    return pd.DataFrame(processed_features)\n",
    "\n",
    "def test_column_significance(feature, target):\n",
    "    if feature_clf[feature.name] == 'num':\n",
    "        feature_true = feature[target == 1]\n",
    "        feature_false = feature[target == 0]\n",
    "        tval, pval = ttest_ind(feature_true, feature_false)\n",
    "        bt_diff_means = bootstrap_diff_means(feature, target)\n",
    "        diff_means, boot_means, boot_ci = compute_confidence_interval(feature, bt_diff_means)\n",
    "        stat = {'diff_means': diff_means, 'boot_means': boot_means, 'boot_ci': boot_ci, 'tval': tval, 'pval': pval, 'bt_diff_means': bt_diff_means}\n",
    "    elif feature_clf[feature.name] == 'cat':\n",
    "        contingency_table = pd.concat([feature, target], axis=1).pivot_table(index=feature.name, columns=target.name, aggfunc=len).fillna(0).copy().astype(int)\n",
    "        g, pval, dof, expected = chi2_contingency(contingency_table)\n",
    "        stat = {'g': g, 'pval': pval, 'dof': dof, 'expected': expected, 'cont': contingency_table}\n",
    "    else:\n",
    "        print(f'COLUMN NOT CLASSIFIED IN feature_clf: {feature.name}')\n",
    "    return stat\n",
    "\n",
    "\n",
    "def bootstrap_diff_means(feature, target, sample_size=1000, bt_size=1000):\n",
    "    bt_diff_means = []\n",
    "    for bootstrap_iter in range(sample_size):\n",
    "        boot_index = np.random.randint(len(target), size = bt_size)\n",
    "        boot_feature, boot_target = feature[boot_index], target[boot_index]\n",
    "        true_boot_feature = boot_feature[boot_target == 1]\n",
    "        false_boot_feature = boot_feature[boot_target == 0]\n",
    "        bt_diff_means.append(true_boot_feature.mean() - false_boot_feature.mean())\n",
    "    return bt_diff_means\n",
    "\n",
    "def compute_confidence_interval(feature, bt_diff_means):\n",
    "    diff_means = feature.mean()\n",
    "    boot_means = np.mean(bt_diff_means)\n",
    "    boot_ci = np.quantile(bt_diff_means, q=[0.025, 0.975])\n",
    "    return diff_means, boot_means, boot_ci\n",
    "\n",
    "\n",
    "\n"
   ]
  },
  {
   "cell_type": "code",
   "execution_count": 110,
   "metadata": {},
   "outputs": [],
   "source": [
    "seed = 18\n",
    "np.random.seed(seed)\n",
    "\n",
    "dataset_path = \"data/kidney.csv\"\n",
    "\n",
    "df = pd.read_csv(dataset_path)\n",
    "\n",
    "\n",
    "columns = df.columns.tolist()\n",
    "features, target = columns[:-1], columns[-1]\n",
    "\n",
    "feature_clf = {'age': 'num', 'bp': 'num', 'sg':'cat', 'al': 'cat', 'su': 'cat', 'rbc': 'cat', 'pc': 'cat', 'pcc': 'cat', 'ba': 'cat', 'bgr': 'num', 'bu': 'num', 'sc': 'num', 'sod': 'num', 'pot': 'num', 'hemo': 'num', 'pcv': 'num', 'wbcc': 'num', 'rbcc': 'num', 'htn': 'cat', 'dm': 'cat', 'cad': 'cat', 'appet': 'cat', 'pe': 'cat', 'ane': 'cat', 'class': 'cat'}\n",
    "\n",
    "label_dict = {'normal': 0, 'abnormal': 1, 'notpresent': 0, 'present': 1, 'yes': 1, 'no': 0, 'ckd': 1, 'notckd': 0, 'good': 0, 'poor':1}\n",
    "\n",
    "df_processed = preprocess_columns(df)\n",
    "df_train, df_test = train_test_split(df_processed, test_size=0.2, random_state=seed)\n"
   ]
  },
  {
   "cell_type": "code",
   "execution_count": 111,
   "metadata": {},
   "outputs": [
    {
     "name": "stderr",
     "output_type": "stream",
     "text": [
      "100%|██████████| 23/23 [00:38<00:00,  1.66s/it]\n"
     ]
    }
   ],
   "source": [
    "\n",
    "\n",
    "res_stats = {}\n",
    "for feature in tqdm(features):\n",
    "    res_stats[feature] = test_column_significance(df_processed[feature], df_processed[target])\n",
    "\n",
    "pval_threshold = 0.01\n",
    "significant_features = [feature for feature in features if res_stats[feature]['pval'] < pval_threshold]\n",
    "\n",
    "pval = {ft: res_stats[ft]['pval'] for ft in features}"
   ]
  },
  {
   "cell_type": "code",
   "execution_count": null,
   "metadata": {},
   "outputs": [],
   "source": []
  },
  {
   "cell_type": "code",
   "execution_count": null,
   "metadata": {},
   "outputs": [],
   "source": []
  },
  {
   "cell_type": "code",
   "execution_count": null,
   "metadata": {},
   "outputs": [],
   "source": []
  },
  {
   "cell_type": "code",
   "execution_count": null,
   "metadata": {},
   "outputs": [],
   "source": []
  },
  {
   "cell_type": "code",
   "execution_count": null,
   "metadata": {},
   "outputs": [],
   "source": []
  },
  {
   "cell_type": "code",
   "execution_count": null,
   "metadata": {},
   "outputs": [],
   "source": []
  },
  {
   "cell_type": "code",
   "execution_count": null,
   "metadata": {},
   "outputs": [],
   "source": [
    "for feature in features:\n",
    "    if feature_clf[feature] == 'cat':\n",
    "        print(res_stats[feature]['cont'])"
   ]
  },
  {
   "cell_type": "code",
   "execution_count": 112,
   "metadata": {},
   "outputs": [],
   "source": [
    "def get_aggregated_modalities(contingency_table):\n",
    "    modalities = contingency_table.index.tolist()\n",
    "    discr = False\n",
    "    aggr = False\n",
    "    aggr_mod = []\n",
    "    aggr_mod_index = []\n",
    "    for modality_index, modality in enumerate(modalities):\n",
    "        if aggr is False:\n",
    "            tmp_mod = []\n",
    "            tmp_mod_index = []\n",
    "        false, true = contingency_table.iloc[modality_index].to_numpy()\n",
    "        if aggr is True and (false != 0 and true != 0):\n",
    "            aggr_mod.append(tmp_mod)\n",
    "            aggr_mod_index.append(tmp_mod_index)\n",
    "            tmp_mod = []\n",
    "            tmp_mod_index = []\n",
    "            aggr = False\n",
    "        if false == 0 or true == 0:\n",
    "            aggr = True\n",
    "        tmp_mod.append(modality)\n",
    "        tmp_mod_index.append(modality_index)\n",
    "        if not aggr:\n",
    "            aggr_mod.append(tmp_mod)\n",
    "            aggr_mod_index.append(tmp_mod_index)\n",
    "    if aggr_mod[-1] != tmp_mod:\n",
    "        aggr_mod.append(tmp_mod)\n",
    "        aggr_mod_index.append(tmp_mod_index)\n",
    "    return aggr_mod, aggr_mod_index\n",
    "\n",
    "\n",
    "def compute_aggr_mod_bins(res_stats):\n",
    "    \n",
    "    new_mod_bins = {}\n",
    "    for feature in features:\n",
    "        if feature_clf[feature] == 'cat':\n",
    "            if res_stats[feature]['dof'] > 2:\n",
    "                aggregated_mod, aggregated_mod_index = get_aggregated_modalities(res_stats[feature]['cont'])\n",
    "                if len(aggregated_mod) < res_stats[feature]['dof']:\n",
    "                    # new_mod_bins[feature] = [np.min(mod) for mod in aggregated_mod]\n",
    "                    new_mod_bins[feature] = aggregated_mod\n",
    "    return new_mod_bins\n",
    "\n",
    "\n",
    "\n",
    "def reduce_mod_features(df, new_mod_bins):\n",
    "    new_modalities_dict = {}\n",
    "    for feature, mod_bins in new_mod_bins.items():\n",
    "        new_modalities_dict[feature] = {modality: bin_index for bin_index, mod_bin in enumerate(mod_bins) for modality in mod_bin}\n",
    "        df[feature] = df[feature].apply(lambda x: new_modalities_dict[feature][x])\n",
    "    return df, new_modalities_dict\n",
    "    \n",
    "        "
   ]
  },
  {
   "cell_type": "code",
   "execution_count": 113,
   "metadata": {},
   "outputs": [
    {
     "data": {
      "text/plain": [
       "dict_items([('sg', [[1.005, 1.01, 1.015], [1.02], [1.025]]), ('al', [[0], [1, 2, 3, 4]]), ('su', [[0], [1, 2, 3, 4, 5]])])"
      ]
     },
     "execution_count": 113,
     "metadata": {},
     "output_type": "execute_result"
    }
   ],
   "source": [
    "new_mod_bins = compute_aggr_mod_bins(res_stats)\n",
    "new_mod_bins.items()"
   ]
  },
  {
   "cell_type": "code",
   "execution_count": 114,
   "metadata": {},
   "outputs": [
    {
     "data": {
      "text/html": [
       "<div>\n",
       "<style scoped>\n",
       "    .dataframe tbody tr th:only-of-type {\n",
       "        vertical-align: middle;\n",
       "    }\n",
       "\n",
       "    .dataframe tbody tr th {\n",
       "        vertical-align: top;\n",
       "    }\n",
       "\n",
       "    .dataframe thead th {\n",
       "        text-align: right;\n",
       "    }\n",
       "</style>\n",
       "<table border=\"1\" class=\"dataframe\">\n",
       "  <thead>\n",
       "    <tr style=\"text-align: right;\">\n",
       "      <th></th>\n",
       "      <th>age</th>\n",
       "      <th>bp</th>\n",
       "      <th>sg</th>\n",
       "      <th>al</th>\n",
       "      <th>su</th>\n",
       "      <th>pc</th>\n",
       "      <th>pcc</th>\n",
       "      <th>ba</th>\n",
       "      <th>bgr</th>\n",
       "      <th>bu</th>\n",
       "      <th>...</th>\n",
       "      <th>pcv</th>\n",
       "      <th>wbcc</th>\n",
       "      <th>rbcc</th>\n",
       "      <th>htn</th>\n",
       "      <th>dm</th>\n",
       "      <th>cad</th>\n",
       "      <th>appet</th>\n",
       "      <th>pe</th>\n",
       "      <th>ane</th>\n",
       "      <th>class</th>\n",
       "    </tr>\n",
       "  </thead>\n",
       "  <tbody>\n",
       "    <tr>\n",
       "      <th>0</th>\n",
       "      <td>48</td>\n",
       "      <td>70</td>\n",
       "      <td>0</td>\n",
       "      <td>1</td>\n",
       "      <td>0</td>\n",
       "      <td>1</td>\n",
       "      <td>1</td>\n",
       "      <td>0</td>\n",
       "      <td>117</td>\n",
       "      <td>56</td>\n",
       "      <td>...</td>\n",
       "      <td>32</td>\n",
       "      <td>6700</td>\n",
       "      <td>3.9</td>\n",
       "      <td>1</td>\n",
       "      <td>0</td>\n",
       "      <td>0</td>\n",
       "      <td>1</td>\n",
       "      <td>1</td>\n",
       "      <td>1</td>\n",
       "      <td>1</td>\n",
       "    </tr>\n",
       "    <tr>\n",
       "      <th>1</th>\n",
       "      <td>53</td>\n",
       "      <td>90</td>\n",
       "      <td>1</td>\n",
       "      <td>1</td>\n",
       "      <td>0</td>\n",
       "      <td>1</td>\n",
       "      <td>1</td>\n",
       "      <td>0</td>\n",
       "      <td>70</td>\n",
       "      <td>107</td>\n",
       "      <td>...</td>\n",
       "      <td>29</td>\n",
       "      <td>12100</td>\n",
       "      <td>3.7</td>\n",
       "      <td>1</td>\n",
       "      <td>1</td>\n",
       "      <td>0</td>\n",
       "      <td>1</td>\n",
       "      <td>0</td>\n",
       "      <td>1</td>\n",
       "      <td>1</td>\n",
       "    </tr>\n",
       "    <tr>\n",
       "      <th>2</th>\n",
       "      <td>63</td>\n",
       "      <td>70</td>\n",
       "      <td>0</td>\n",
       "      <td>1</td>\n",
       "      <td>0</td>\n",
       "      <td>1</td>\n",
       "      <td>1</td>\n",
       "      <td>0</td>\n",
       "      <td>380</td>\n",
       "      <td>60</td>\n",
       "      <td>...</td>\n",
       "      <td>32</td>\n",
       "      <td>4500</td>\n",
       "      <td>3.8</td>\n",
       "      <td>1</td>\n",
       "      <td>1</td>\n",
       "      <td>0</td>\n",
       "      <td>1</td>\n",
       "      <td>1</td>\n",
       "      <td>0</td>\n",
       "      <td>1</td>\n",
       "    </tr>\n",
       "    <tr>\n",
       "      <th>3</th>\n",
       "      <td>68</td>\n",
       "      <td>70</td>\n",
       "      <td>0</td>\n",
       "      <td>1</td>\n",
       "      <td>1</td>\n",
       "      <td>0</td>\n",
       "      <td>1</td>\n",
       "      <td>0</td>\n",
       "      <td>208</td>\n",
       "      <td>72</td>\n",
       "      <td>...</td>\n",
       "      <td>28</td>\n",
       "      <td>12200</td>\n",
       "      <td>3.4</td>\n",
       "      <td>1</td>\n",
       "      <td>1</td>\n",
       "      <td>1</td>\n",
       "      <td>1</td>\n",
       "      <td>1</td>\n",
       "      <td>0</td>\n",
       "      <td>1</td>\n",
       "    </tr>\n",
       "    <tr>\n",
       "      <th>4</th>\n",
       "      <td>68</td>\n",
       "      <td>80</td>\n",
       "      <td>0</td>\n",
       "      <td>1</td>\n",
       "      <td>1</td>\n",
       "      <td>1</td>\n",
       "      <td>1</td>\n",
       "      <td>1</td>\n",
       "      <td>157</td>\n",
       "      <td>90</td>\n",
       "      <td>...</td>\n",
       "      <td>16</td>\n",
       "      <td>11000</td>\n",
       "      <td>2.6</td>\n",
       "      <td>1</td>\n",
       "      <td>1</td>\n",
       "      <td>1</td>\n",
       "      <td>1</td>\n",
       "      <td>1</td>\n",
       "      <td>0</td>\n",
       "      <td>1</td>\n",
       "    </tr>\n",
       "    <tr>\n",
       "      <th>...</th>\n",
       "      <td>...</td>\n",
       "      <td>...</td>\n",
       "      <td>...</td>\n",
       "      <td>...</td>\n",
       "      <td>...</td>\n",
       "      <td>...</td>\n",
       "      <td>...</td>\n",
       "      <td>...</td>\n",
       "      <td>...</td>\n",
       "      <td>...</td>\n",
       "      <td>...</td>\n",
       "      <td>...</td>\n",
       "      <td>...</td>\n",
       "      <td>...</td>\n",
       "      <td>...</td>\n",
       "      <td>...</td>\n",
       "      <td>...</td>\n",
       "      <td>...</td>\n",
       "      <td>...</td>\n",
       "      <td>...</td>\n",
       "      <td>...</td>\n",
       "    </tr>\n",
       "    <tr>\n",
       "      <th>184</th>\n",
       "      <td>55</td>\n",
       "      <td>80</td>\n",
       "      <td>1</td>\n",
       "      <td>0</td>\n",
       "      <td>0</td>\n",
       "      <td>0</td>\n",
       "      <td>0</td>\n",
       "      <td>0</td>\n",
       "      <td>140</td>\n",
       "      <td>49</td>\n",
       "      <td>...</td>\n",
       "      <td>47</td>\n",
       "      <td>6700</td>\n",
       "      <td>4.9</td>\n",
       "      <td>0</td>\n",
       "      <td>0</td>\n",
       "      <td>0</td>\n",
       "      <td>0</td>\n",
       "      <td>0</td>\n",
       "      <td>0</td>\n",
       "      <td>0</td>\n",
       "    </tr>\n",
       "    <tr>\n",
       "      <th>185</th>\n",
       "      <td>42</td>\n",
       "      <td>70</td>\n",
       "      <td>2</td>\n",
       "      <td>0</td>\n",
       "      <td>0</td>\n",
       "      <td>0</td>\n",
       "      <td>0</td>\n",
       "      <td>0</td>\n",
       "      <td>75</td>\n",
       "      <td>31</td>\n",
       "      <td>...</td>\n",
       "      <td>54</td>\n",
       "      <td>7800</td>\n",
       "      <td>6.2</td>\n",
       "      <td>0</td>\n",
       "      <td>0</td>\n",
       "      <td>0</td>\n",
       "      <td>0</td>\n",
       "      <td>0</td>\n",
       "      <td>0</td>\n",
       "      <td>0</td>\n",
       "    </tr>\n",
       "    <tr>\n",
       "      <th>186</th>\n",
       "      <td>12</td>\n",
       "      <td>80</td>\n",
       "      <td>1</td>\n",
       "      <td>0</td>\n",
       "      <td>0</td>\n",
       "      <td>0</td>\n",
       "      <td>0</td>\n",
       "      <td>0</td>\n",
       "      <td>100</td>\n",
       "      <td>26</td>\n",
       "      <td>...</td>\n",
       "      <td>49</td>\n",
       "      <td>6600</td>\n",
       "      <td>5.4</td>\n",
       "      <td>0</td>\n",
       "      <td>0</td>\n",
       "      <td>0</td>\n",
       "      <td>0</td>\n",
       "      <td>0</td>\n",
       "      <td>0</td>\n",
       "      <td>0</td>\n",
       "    </tr>\n",
       "    <tr>\n",
       "      <th>187</th>\n",
       "      <td>17</td>\n",
       "      <td>60</td>\n",
       "      <td>2</td>\n",
       "      <td>0</td>\n",
       "      <td>0</td>\n",
       "      <td>0</td>\n",
       "      <td>0</td>\n",
       "      <td>0</td>\n",
       "      <td>114</td>\n",
       "      <td>50</td>\n",
       "      <td>...</td>\n",
       "      <td>51</td>\n",
       "      <td>7200</td>\n",
       "      <td>5.9</td>\n",
       "      <td>0</td>\n",
       "      <td>0</td>\n",
       "      <td>0</td>\n",
       "      <td>0</td>\n",
       "      <td>0</td>\n",
       "      <td>0</td>\n",
       "      <td>0</td>\n",
       "    </tr>\n",
       "    <tr>\n",
       "      <th>188</th>\n",
       "      <td>58</td>\n",
       "      <td>80</td>\n",
       "      <td>2</td>\n",
       "      <td>0</td>\n",
       "      <td>0</td>\n",
       "      <td>0</td>\n",
       "      <td>0</td>\n",
       "      <td>0</td>\n",
       "      <td>131</td>\n",
       "      <td>18</td>\n",
       "      <td>...</td>\n",
       "      <td>53</td>\n",
       "      <td>6800</td>\n",
       "      <td>6.1</td>\n",
       "      <td>0</td>\n",
       "      <td>0</td>\n",
       "      <td>0</td>\n",
       "      <td>0</td>\n",
       "      <td>0</td>\n",
       "      <td>0</td>\n",
       "      <td>0</td>\n",
       "    </tr>\n",
       "  </tbody>\n",
       "</table>\n",
       "<p>189 rows × 24 columns</p>\n",
       "</div>"
      ],
      "text/plain": [
       "     age  bp  sg  al  su  pc  pcc  ba  bgr   bu  ...  pcv   wbcc  rbcc  htn  \\\n",
       "0     48  70   0   1   0   1    1   0  117   56  ...   32   6700   3.9    1   \n",
       "1     53  90   1   1   0   1    1   0   70  107  ...   29  12100   3.7    1   \n",
       "2     63  70   0   1   0   1    1   0  380   60  ...   32   4500   3.8    1   \n",
       "3     68  70   0   1   1   0    1   0  208   72  ...   28  12200   3.4    1   \n",
       "4     68  80   0   1   1   1    1   1  157   90  ...   16  11000   2.6    1   \n",
       "..   ...  ..  ..  ..  ..  ..  ...  ..  ...  ...  ...  ...    ...   ...  ...   \n",
       "184   55  80   1   0   0   0    0   0  140   49  ...   47   6700   4.9    0   \n",
       "185   42  70   2   0   0   0    0   0   75   31  ...   54   7800   6.2    0   \n",
       "186   12  80   1   0   0   0    0   0  100   26  ...   49   6600   5.4    0   \n",
       "187   17  60   2   0   0   0    0   0  114   50  ...   51   7200   5.9    0   \n",
       "188   58  80   2   0   0   0    0   0  131   18  ...   53   6800   6.1    0   \n",
       "\n",
       "     dm  cad  appet  pe  ane  class  \n",
       "0     0    0      1   1    1      1  \n",
       "1     1    0      1   0    1      1  \n",
       "2     1    0      1   1    0      1  \n",
       "3     1    1      1   1    0      1  \n",
       "4     1    1      1   1    0      1  \n",
       "..   ..  ...    ...  ..  ...    ...  \n",
       "184   0    0      0   0    0      0  \n",
       "185   0    0      0   0    0      0  \n",
       "186   0    0      0   0    0      0  \n",
       "187   0    0      0   0    0      0  \n",
       "188   0    0      0   0    0      0  \n",
       "\n",
       "[189 rows x 24 columns]"
      ]
     },
     "execution_count": 114,
     "metadata": {},
     "output_type": "execute_result"
    }
   ],
   "source": [
    "df_reprocessed, new_modalities_dict = reduce_mod_features(df_processed.copy(deep=True), new_mod_bins)\n",
    "df_reprocessed"
   ]
  },
  {
   "cell_type": "code",
   "execution_count": 116,
   "metadata": {},
   "outputs": [],
   "source": [
    "df_true = df_reprocessed[df_reprocessed['class'] == 1]\n",
    "df_false = df_reprocessed[df_reprocessed['class'] == 0]"
   ]
  },
  {
   "cell_type": "code",
   "execution_count": 132,
   "metadata": {},
   "outputs": [],
   "source": [
    "ft = 'bgr'"
   ]
  },
  {
   "cell_type": "code",
   "execution_count": 133,
   "metadata": {},
   "outputs": [
    {
     "data": {
      "text/plain": [
       "<matplotlib.legend.Legend at 0x7fb61447e880>"
      ]
     },
     "execution_count": 133,
     "metadata": {},
     "output_type": "execute_result"
    },
    {
     "data": {
      "image/png": "[encoded data removed]",
      "text/plain": [
       "<Figure size 576x432 with 1 Axes>"
      ]
     },
     "metadata": {
      "needs_background": "light"
     },
     "output_type": "display_data"
    }
   ],
   "source": [
    "import matplotlib.pyplot as plt\n",
    "\n",
    "plt.figure(figsize=(8,6))\n",
    "plt.hist(df_true[ft], bins=10, alpha=0.5, label=\"Sick\")\n",
    "plt.hist(df_false[ft], bins=10, alpha=0.5, label=\"Not sick\")\n",
    "#plt.hist(df_reprocessed[ft], bins=10, alpha=0.5, label=\"Total\")\n",
    "\n",
    "plt.xlabel(\"Data\", size=14)\n",
    "plt.ylabel(\"Count\", size=14)\n",
    "plt.title(\"Multiple Histograms with Matplotlib\")\n",
    "plt.legend(loc='upper right')\n",
    "#plt.savefig(\"overlapping_histograms_with_matplotlib_Python.png\")"
   ]
  },
  {
   "cell_type": "code",
   "execution_count": 68,
   "metadata": {},
   "outputs": [
    {
     "data": {
      "text/plain": [
       "0      4\n",
       "1      2\n",
       "2      3\n",
       "3      3\n",
       "4      3\n",
       "      ..\n",
       "184    0\n",
       "185    0\n",
       "186    0\n",
       "187    0\n",
       "188    0\n",
       "Name: al, Length: 189, dtype: int64"
      ]
     },
     "execution_count": 68,
     "metadata": {},
     "output_type": "execute_result"
    }
   ],
   "source": []
  },
  {
   "cell_type": "code",
   "execution_count": 58,
   "metadata": {},
   "outputs": [
    {
     "data": {
      "text/plain": [
       "Counter({0: 131, 1: 9, 2: 12, 3: 22, 4: 15})"
      ]
     },
     "execution_count": 58,
     "metadata": {},
     "output_type": "execute_result"
    }
   ],
   "source": [
    "from collections import Counter\n",
    "Counter(sorted(df_processed[ft]))"
   ]
  },
  {
   "cell_type": "code",
   "execution_count": 59,
   "metadata": {},
   "outputs": [
    {
     "data": {
      "text/plain": [
       "0      1\n",
       "1      1\n",
       "2      1\n",
       "3      1\n",
       "4      1\n",
       "      ..\n",
       "184    0\n",
       "185    0\n",
       "186    0\n",
       "187    0\n",
       "188    0\n",
       "Name: al, Length: 189, dtype: category\n",
       "Categories (2, int64): [0 < 1]"
      ]
     },
     "execution_count": 59,
     "metadata": {},
     "output_type": "execute_result"
    }
   ],
   "source": [
    "pd.cut(df_processed[ft], bins=mod_bins, labels=range(len(mod_bins)-1), include_lowest=False, right=False)"
   ]
  },
  {
   "cell_type": "code",
   "execution_count": 60,
   "metadata": {},
   "outputs": [
    {
     "data": {
      "text/plain": [
       "Counter({0: 131, 1: 58})"
      ]
     },
     "execution_count": 60,
     "metadata": {},
     "output_type": "execute_result"
    }
   ],
   "source": [
    "from collections import Counter\n",
    "Counter(sorted(pd.cut(df_processed[ft], bins=mod_bins, labels=range(len(mod_bins)-1), include_lowest=False, right=False)))"
   ]
  },
  {
   "cell_type": "code",
   "execution_count": null,
   "metadata": {},
   "outputs": [],
   "source": []
  },
  {
   "cell_type": "code",
   "execution_count": null,
   "metadata": {},
   "outputs": [],
   "source": []
  },
  {
   "cell_type": "code",
   "execution_count": 75,
   "metadata": {},
   "outputs": [
    {
     "data": {
      "text/plain": [
       "0      0\n",
       "1      0\n",
       "2      0\n",
       "3      1\n",
       "4      2\n",
       "      ..\n",
       "184    0\n",
       "185    0\n",
       "186    0\n",
       "187    0\n",
       "188    0\n",
       "Name: su, Length: 189, dtype: int64"
      ]
     },
     "execution_count": 75,
     "metadata": {},
     "output_type": "execute_result"
    }
   ],
   "source": [
    "df_processed[feature]"
   ]
  },
  {
   "cell_type": "code",
   "execution_count": 72,
   "metadata": {},
   "outputs": [
    {
     "data": {
      "text/plain": [
       "0        0\n",
       "1        0\n",
       "2        0\n",
       "3      NaN\n",
       "4      NaN\n",
       "      ... \n",
       "184      0\n",
       "185      0\n",
       "186      0\n",
       "187      0\n",
       "188      0\n",
       "Name: su, Length: 189, dtype: category\n",
       "Categories (1, int64): [0]"
      ]
     },
     "execution_count": 72,
     "metadata": {},
     "output_type": "execute_result"
    }
   ],
   "source": [
    "pd.cut(df_processed[feature], bins=mod_bins, labels=range(len(mod_bins)-1), include_lowest=False, right=False)"
   ]
  },
  {
   "cell_type": "code",
   "execution_count": null,
   "metadata": {},
   "outputs": [],
   "source": [
    "df_reprocessed[['sg', 'class']].pivot_table(index='sg', columns='class', aggfunc=len).fillna(0)"
   ]
  },
  {
   "cell_type": "code",
   "execution_count": null,
   "metadata": {},
   "outputs": [],
   "source": [
    "ft = 'sg'\n",
    "cont = res_stats[ft]['cont']"
   ]
  },
  {
   "cell_type": "code",
   "execution_count": null,
   "metadata": {},
   "outputs": [],
   "source": [
    "cont[0].drop(cont[0][cont[0] == 0].index)"
   ]
  },
  {
   "cell_type": "code",
   "execution_count": null,
   "metadata": {},
   "outputs": [],
   "source": [
    "modalities = cont.index.tolist()\n",
    "cont.index.tolist()"
   ]
  },
  {
   "cell_type": "code",
   "execution_count": null,
   "metadata": {},
   "outputs": [],
   "source": [
    "num_features = [ft for ft in features if feature_clf[ft] == 'num']\n",
    "cat_features = [ft for ft in features if feature_clf[ft] == 'cat']"
   ]
  },
  {
   "cell_type": "code",
   "execution_count": null,
   "metadata": {},
   "outputs": [],
   "source": [
    "multi_mod_ft = [ft for ft in cat_features if res_stats[ft]['dof'] > 2]"
   ]
  },
  {
   "cell_type": "code",
   "execution_count": null,
   "metadata": {},
   "outputs": [],
   "source": []
  },
  {
   "cell_type": "code",
   "execution_count": null,
   "metadata": {},
   "outputs": [],
   "source": [
    "df_processed['sg']"
   ]
  },
  {
   "cell_type": "code",
   "execution_count": null,
   "metadata": {},
   "outputs": [],
   "source": [
    "df_processed"
   ]
  },
  {
   "cell_type": "code",
   "execution_count": null,
   "metadata": {},
   "outputs": [],
   "source": []
  }
 ],
 "metadata": {
  "kernelspec": {
   "display_name": "Python 3",
   "language": "python",
   "name": "python3"
  },
  "language_info": {
   "codemirror_mode": {
    "name": "ipython",
    "version": 3
   },
   "file_extension": ".py",
   "mimetype": "text/x-python",
   "name": "python",
   "nbconvert_exporter": "python",
   "pygments_lexer": "ipython3",
   "version": "3.8.5"
  }
 },
 "nbformat": 4,
 "nbformat_minor": 4
}
